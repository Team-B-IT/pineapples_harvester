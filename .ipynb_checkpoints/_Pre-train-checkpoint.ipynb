{
 "cells": [
  {
   "cell_type": "markdown",
   "metadata": {
    "colab_type": "text",
    "id": "BeLClX8k5Oar"
   },
   "source": [
    "# Mount"
   ]
  },
  {
   "cell_type": "code",
   "execution_count": 0,
   "metadata": {
    "colab": {
     "base_uri": "https://localhost:8080/",
     "height": 34
    },
    "colab_type": "code",
    "executionInfo": {
     "elapsed": 847,
     "status": "ok",
     "timestamp": 1569571356112,
     "user": {
      "displayName": "Kiên Phan Trung",
      "photoUrl": "https://lh3.googleusercontent.com/a-/AAuE7mDgWYUcQsnhz6dTA5UpC-O6PVzjdFDpFrOlLhJ9bw=s64",
      "userId": "01116316826405903980"
     },
     "user_tz": -420
    },
    "id": "-ioL_A_tDGem",
    "outputId": "2bca3e90-5caf-41ff-81b3-f9e1daa8204e"
   },
   "outputs": [
    {
     "name": "stdout",
     "output_type": "stream",
     "text": [
      "Drive already mounted at /content/drive; to attempt to forcibly remount, call drive.mount(\"/content/drive\", force_remount=True).\n"
     ]
    }
   ],
   "source": [
    "from google.colab import drive\n",
    "drive.mount('/content/drive')"
   ]
  },
  {
   "cell_type": "code",
   "execution_count": 0,
   "metadata": {
    "colab": {
     "base_uri": "https://localhost:8080/",
     "height": 51
    },
    "colab_type": "code",
    "executionInfo": {
     "elapsed": 853,
     "status": "ok",
     "timestamp": 1569571358989,
     "user": {
      "displayName": "Kiên Phan Trung",
      "photoUrl": "https://lh3.googleusercontent.com/a-/AAuE7mDgWYUcQsnhz6dTA5UpC-O6PVzjdFDpFrOlLhJ9bw=s64",
      "userId": "01116316826405903980"
     },
     "user_tz": -420
    },
    "id": "f8C2bXltOdKs",
    "outputId": "0d209cf3-aeaf-4118-d0a5-595fb956ed15"
   },
   "outputs": [
    {
     "name": "stdout",
     "output_type": "stream",
     "text": [
      "[Errno 2] No such file or directory: './drive/My Drive/CNTT/Project/pineapple/keras-yolo3-master'\n",
      "/content/drive/My Drive/CNTT/Project/pineapple/keras-yolo3-master\n"
     ]
    }
   ],
   "source": [
    "cd ./drive/My Drive/CNTT/Project/pineapple/keras-yolo3-master"
   ]
  },
  {
   "cell_type": "markdown",
   "metadata": {
    "colab_type": "text",
    "id": "xPJeq8005XW8"
   },
   "source": [
    "# Convert pre-train model"
   ]
  },
  {
   "cell_type": "code",
   "execution_count": 0,
   "metadata": {
    "colab": {},
    "colab_type": "code",
    "id": "RXYz5NnzlE_2"
   },
   "outputs": [],
   "source": [
    "!python convert.py -w yolov3.cfg yolov3.weights model_data/yolo_weights.h5"
   ]
  },
  {
   "cell_type": "markdown",
   "metadata": {
    "colab_type": "text",
    "id": "bIK0AGm85d9U"
   },
   "source": [
    "# Preprocessing"
   ]
  },
  {
   "cell_type": "code",
   "execution_count": 0,
   "metadata": {
    "colab": {},
    "colab_type": "code",
    "id": "Q095Z1aWD1Tv"
   },
   "outputs": [],
   "source": [
    "import os\n",
    "import shutil\n",
    "import xml.etree.ElementTree as ET\n",
    "\n",
    "DATADIR = \"../Data_shuffle\"\n",
    "path = os.path.join(DATADIR, \"train\")\n",
    "\n",
    "# for folder in os.listdir(path):\n",
    "#     source = os.path.join(path, folder)\n",
    "#     dest = DATADIR\n",
    "#     for file in os.listdir(source):\n",
    "#         shutil.move(os.path.join(source, file), dest)\n",
    "\n",
    "f = open('train.txt', 'w')\n",
    "for file in os.listdir(path):\n",
    "    if file[-3:] == 'xml':\n",
    "        tree = ET.parse(os.path.join(path, file))\n",
    "        root = tree.getroot()\n",
    "        if (root[1].text[-3:] == \"JPG\"):\n",
    "            f.write(os.path.join(path, root[1].text[:-3])+\"jpeg\")\n",
    "            print(os.path.join(path, root[1].text[:-3])+\"jpeg\")\n",
    "        else:\n",
    "            f.write(os.path.join(path, root[1].text))\n",
    "            \n",
    "        for child in root:\n",
    "            if child.tag == 'object':\n",
    "                if child[0].text == 'full ripe pineapple':\n",
    "                    box = child[4]\n",
    "                    f.write(' ' + box[0].text+\",\"+box[1].text +\n",
    "                        ','+box[2].text+','+box[3].text+','+'0')\n",
    "           \n",
    "                if (child[0].text == 'full green pineapple' or child[0].text == 'full baby pineapple'):\n",
    "                    box = child[4]\n",
    "                    f.write(' ' + box[0].text+\",\"+box[1].text +\n",
    "                            ','+box[2].text+','+box[3].text+','+'1')\n",
    "                if child[0].text == 'body ripe pineapple':\n",
    "                    box = child[4]\n",
    "                    f.write(' ' + box[0].text+\",\"+box[1].text +\n",
    "                        ','+box[2].text+','+box[3].text+','+'2')\n",
    "           \n",
    "                if (child[0].text == 'body green pineapple' or child[0].text == 'body baby pineapple'):\n",
    "                    box = child[4]\n",
    "                    f.write(' ' + box[0].text+\",\"+box[1].text +\n",
    "                            ','+box[2].text+','+box[3].text+','+'3')\n",
    "\n",
    "        f.write('\\n')\n",
    "f.close()\n"
   ]
  },
  {
   "cell_type": "markdown",
   "metadata": {
    "colab_type": "text",
    "id": "3qGPlW-d5oHr"
   },
   "source": [
    "# Preprocessing for new data 8/2019"
   ]
  },
  {
   "cell_type": "code",
   "execution_count": 0,
   "metadata": {
    "colab": {
     "base_uri": "https://localhost:8080/",
     "height": 34
    },
    "colab_type": "code",
    "executionInfo": {
     "elapsed": 1213,
     "status": "ok",
     "timestamp": 1569437062861,
     "user": {
      "displayName": "Kiên Phan Trung",
      "photoUrl": "https://lh3.googleusercontent.com/a-/AAuE7mDgWYUcQsnhz6dTA5UpC-O6PVzjdFDpFrOlLhJ9bw=s64",
      "userId": "01116316826405903980"
     },
     "user_tz": -420
    },
    "id": "SjlKz1qW5mhG",
    "outputId": "c4a8f439-a314-406c-e9e9-75206731e819"
   },
   "outputs": [
    {
     "name": "stdout",
     "output_type": "stream",
     "text": [
      "4101_4200\n"
     ]
    }
   ],
   "source": [
    "import os\n",
    "import shutil \n",
    "\n",
    "src_path = \"../Data_raw/2019_08\"\n",
    "des_path = \"../Data_shuffle_new/New\"\n",
    "count =  0\n",
    "\n",
    "for folder in os.listdir(src_path):\n",
    "  src = os.path.join(src_path, folder)\n",
    "  print(folder)\n",
    "  for file in os.listdir(src):\n",
    "    if file.endswith('.jpeg'):\n",
    "      try:\n",
    "        # shutil.copy(os.path.join(src, file), des_path)\n",
    "        # # print(file[:-4])\n",
    "        # shutil.copy(os.path.join(src, file[:-4] + 'xml'), des_path)\n",
    "        count += 1\n",
    "      except Exception as e:\n",
    "        print(e)  \n",
    "\n",
    "print(count)\n",
    "\n"
   ]
  },
  {
   "cell_type": "code",
   "execution_count": 0,
   "metadata": {
    "colab": {},
    "colab_type": "code",
    "id": "QPwDnvGA0zh9"
   },
   "outputs": [],
   "source": [
    "import os\n",
    "import numpy as np\n",
    "import shutil\n",
    "des_path = \"../Data_shuffle_new/New\"\n",
    "\n",
    "count = 0\n",
    "files = os.listdir(des_path)\n",
    "\n",
    "list_xml = []\n",
    "for file in os.listdir(des_path):\n",
    "  if file.endswith('.xml'):\n",
    "    list_xml.append(file)\n",
    "\n",
    "chossen_list = []\n",
    "for i, file in enumerate(list_xml):\n",
    "  k = int(file[:-4])\n",
    "  if k % 5 == 1:\n",
    "    chossen_list.append(file)\n",
    "    print(file)\n",
    "    count += 1\n",
    "chossen_list = np.asarray(chossen_list)\n",
    "num_samples = count\n",
    "indices = np.arange(num_samples)\n",
    "np.random.shuffle(indices)\n",
    "chossen_list = chossen_list[indices]\n",
    "train_list = chossen_list[:700]\n",
    "test_list = chossen_list[700:]\n",
    "# print(chossen_list)\n",
    "\n",
    "for file in train_list:\n",
    "  try:\n",
    "    shutil.move(os.path.join(des_path, file), \"../Data_shuffle_new/train\")\n",
    "    shutil.move(os.path.join(des_path, file[:-3] + 'jpeg'), \"../Data_shuffle_new/train\")\n",
    "  except Exception as e:\n",
    "    print(e)\n",
    "\n",
    "for file in test_list:\n",
    "  try:\n",
    "    shutil.move(os.path.join(des_path, file), \"../Data_shuffle_new/test\")\n",
    "    shutil.move(os.path.join(des_path, file[:-3] + 'jpeg'), \"../Data_shuffle_new/test\")\n",
    "  except Exception as e:\n",
    "    print(e)\n"
   ]
  },
  {
   "cell_type": "code",
   "execution_count": 0,
   "metadata": {
    "colab": {},
    "colab_type": "code",
    "id": "SzIbx7rHFhPZ"
   },
   "outputs": [],
   "source": [
    "import xml.etree.ElementTree as ET\n",
    "\n",
    "DATADIR = \"../Data_shuffle_new\"\n",
    "path = os.path.join(DATADIR, \"train\")\n",
    "\n",
    "# for folder in os.listdir(path):\n",
    "#     source = os.path.join(path, folder)\n",
    "#     dest = DATADIR\n",
    "#     for file in os.listdir(source):\n",
    "#         shutil.move(os.path.join(source, file), dest)\n",
    "\n",
    "count = 0\n",
    "f = open('train.txt', 'w')\n",
    "for file in os.listdir(path):\n",
    "    if file[-3:] == 'xml':\n",
    "        if file[0] != 'c':\n",
    "          count+=1\n",
    "        print(file)\n",
    "        tree = ET.parse(os.path.join(path, file))\n",
    "        root = tree.getroot()\n",
    "        if (root[1].text[-3:] == \"JPG\"):\n",
    "            f.write(os.path.join(path, root[1].text[:-3])+\"jpeg\")\n",
    "            # print(os.path.join(path, root[1].text[:-3])+\"jpeg\")\n",
    "        else:\n",
    "            f.write(os.path.join(path, root[1].text))\n",
    "            \n",
    "        for child in root:\n",
    "            if child.tag == 'object':\n",
    "                if child[0].text == 'full ripe pineapple':\n",
    "                    box = child[4]\n",
    "                    f.write(' ' + box[0].text+\",\"+box[1].text +\n",
    "                        ','+box[2].text+','+box[3].text+','+'0')\n",
    "           \n",
    "                if (child[0].text == 'full green pineapple' or child[0].text == 'full baby pineapple'):\n",
    "                    box = child[4]\n",
    "                    f.write(' ' + box[0].text+\",\"+box[1].text +\n",
    "                            ','+box[2].text+','+box[3].text+','+'1')\n",
    "                if child[0].text == 'body ripe pineapple':\n",
    "                    box = child[4]\n",
    "                    f.write(' ' + box[0].text+\",\"+box[1].text +\n",
    "                        ','+box[2].text+','+box[3].text+','+'2')\n",
    "           \n",
    "                if (child[0].text == 'body green pineapple' or child[0].text == 'body baby pineapple'):\n",
    "                    box = child[4]\n",
    "                    f.write(' ' + box[0].text+\",\"+box[1].text +\n",
    "                            ','+box[2].text+','+box[3].text+','+'3')\n",
    "\n",
    "        f.write('\\n')\n",
    "f.close()\n",
    "print(count)"
   ]
  },
  {
   "cell_type": "markdown",
   "metadata": {
    "colab_type": "text",
    "id": "OKGjuete1pfl"
   },
   "source": [
    "# Test"
   ]
  },
  {
   "cell_type": "code",
   "execution_count": 33,
   "metadata": {
    "colab": {
     "base_uri": "https://localhost:8080/",
     "height": 34
    },
    "colab_type": "code",
    "executionInfo": {
     "elapsed": 856,
     "status": "ok",
     "timestamp": 1569573239228,
     "user": {
      "displayName": "Kiên Phan Trung",
      "photoUrl": "https://lh3.googleusercontent.com/a-/AAuE7mDgWYUcQsnhz6dTA5UpC-O6PVzjdFDpFrOlLhJ9bw=s64",
      "userId": "01116316826405903980"
     },
     "user_tz": -420
    },
    "id": "sZowTYJOK__6",
    "outputId": "ab58471a-8778-4092-8822-737ae93777a2"
   },
   "outputs": [
    {
     "name": "stdout",
     "output_type": "stream",
     "text": [
      "1337\n"
     ]
    }
   ],
   "source": [
    "import os\n",
    "print(len(os.listdir(\"../Data_shuffle/train\")))"
   ]
  }
 ],
 "metadata": {
  "colab": {
   "collapsed_sections": [
    "xPJeq8005XW8",
    "bIK0AGm85d9U"
   ],
   "name": "_Pre-train.ipynb",
   "provenance": []
  },
  "kernelspec": {
   "display_name": "Python 3",
   "language": "python",
   "name": "python3"
  },
  "language_info": {
   "codemirror_mode": {
    "name": "ipython",
    "version": 3
   },
   "file_extension": ".py",
   "mimetype": "text/x-python",
   "name": "python",
   "nbconvert_exporter": "python",
   "pygments_lexer": "ipython3",
   "version": "3.6.7"
  }
 },
 "nbformat": 4,
 "nbformat_minor": 1
}
